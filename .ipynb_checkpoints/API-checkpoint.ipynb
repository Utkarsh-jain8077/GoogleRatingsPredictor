{
 "cells": [
  {
   "cell_type": "code",
   "execution_count": 1,
   "id": "97d6f122",
   "metadata": {},
   "outputs": [
    {
     "name": "stdout",
     "output_type": "stream",
     "text": [
      "200\n",
      "utf-8\n",
      "https://codingninjas.in/api/v3/courses\n",
      "{'Date': 'Thu, 27 May 2021 11:48:32 GMT', 'Content-Type': 'application/json', 'Transfer-Encoding': 'chunked', 'Connection': 'keep-alive', 'Server': 'nginx', 'X-Frame-Options': 'SAMEORIGIN', 'X-XSS-Protection': '1; mode=block', 'X-Content-Type-Options': 'nosniff', 'Access-Control-Allow-Origin': '*', 'Access-Control-Allow-Methods': 'POST, GET, PATCH, PUT, DELETE, OPTIONS', 'Access-Control-Allow-Headers': 'Access-Control-Allow-Headers, Origin,Accept, X-Requested-With, Content-Type, Access-Control-Request-Method, Access-Control-Request-Headers, Authorization', 'Access-Control-Max-Age': '1728000', 'Vary': 'Accept-Encoding', 'Content-Encoding': 'gzip', 'ETag': 'W/\"60c114830bf831a3edea0a74594f3df1\"', 'Cache-Control': 'max-age=0, private, must-revalidate', 'X-Request-Id': '394cf556-edc1-42b5-8199-d48dd9859c14', 'X-Runtime': '0.009761', 'Strict-Transport-Security': 'max-age=31536000; includeSubDomains;'}\n"
     ]
    }
   ],
   "source": [
    "import requests\n",
    "response=requests.get('https://codingninjas.in/api/v3/courses')\n",
    "print(response.status_code)\n",
    "print(response.encoding)\n",
    "print(response.url)\n",
    "print (response.headers)\n",
    "\n",
    "\n"
   ]
  },
  {
   "cell_type": "code",
   "execution_count": 9,
   "id": "ae890849",
   "metadata": {},
   "outputs": [
    {
     "name": "stdout",
     "output_type": "stream",
     "text": [
      "{'utku': 22}\n",
      "<class 'dict'>\n",
      "22\n"
     ]
    }
   ],
   "source": [
    "import json\n",
    "json_data='{\"utku\": 22}'\n",
    "python_data=json.loads(json_data)\n",
    "print(python_data)\n",
    "print(type(python_data))\n",
    "print(python_data['utku'])"
   ]
  },
  {
   "cell_type": "code",
   "execution_count": 15,
   "id": "e42e7681",
   "metadata": {},
   "outputs": [
    {
     "name": "stdout",
     "output_type": "stream",
     "text": [
      "mohit\n"
     ]
    }
   ],
   "source": [
    "json_data='{\"student\":{\"Name\":\"mohit\",\"rollno\":101}}'\n",
    "python_data=json.loads(json_data)\n",
    "student_details=python_data['student']\n",
    "print(student_details[\"Name\"])"
   ]
  },
  {
   "cell_type": "code",
   "execution_count": 26,
   "id": "9c9e4224",
   "metadata": {},
   "outputs": [
    {
     "name": "stdout",
     "output_type": "stream",
     "text": [
      "{'colors': ['blue', 'red', 'pink']}\n",
      "<class 'dict'>\n",
      "<class 'list'>\n",
      "['blue', 'red', 'pink']\n",
      "blue\n",
      "red\n",
      "pink\n"
     ]
    }
   ],
   "source": [
    "json_data1='{\"colors\":[\"blue\",\"red\",\"pink\"]}'\n",
    "python_data=json.loads(json_data1)\n",
    "print((python_data))\n",
    "print(type(python_data))\n",
    "print(type(python_data[\"colors\"]))\n",
    "print(python_data[\"colors\"])\n",
    "for i in python_data[\"colors\"]:\n",
    "    print(i)"
   ]
  },
  {
   "cell_type": "code",
   "execution_count": 4,
   "id": "69b8cd67",
   "metadata": {},
   "outputs": [
    {
     "name": "stdout",
     "output_type": "stream",
     "text": [
      "200\n",
      "https://api.nasa.gov/planetary/apod?api_key=DEMO_KEY\n"
     ]
    }
   ],
   "source": [
    "a=requests.get(\"https://api.nasa.gov/planetary/apod\",params={\"api_key\":\"DEMO_KEY\"})\n",
    "print(a.status_code)\n",
    "print(a.url)"
   ]
  },
  {
   "cell_type": "code",
   "execution_count": 2,
   "id": "9207e62e",
   "metadata": {},
   "outputs": [
    {
     "name": "stdout",
     "output_type": "stream",
     "text": [
      "<Response [200]>\n",
      "{\n",
      "  \"args\": {}, \n",
      "  \"data\": \"\", \n",
      "  \"files\": {}, \n",
      "  \"form\": {}, \n",
      "  \"headers\": {\n",
      "    \"Accept\": \"*/*\", \n",
      "    \"Accept-Encoding\": \"gzip, deflate\", \n",
      "    \"Content-Length\": \"0\", \n",
      "    \"Host\": \"httpbin.org\", \n",
      "    \"User-Agent\": \"python-requests/2.25.1\", \n",
      "    \"X-Amzn-Trace-Id\": \"Root=1-60b0cb11-2d78a4036ba5538020b2da97\"\n",
      "  }, \n",
      "  \"json\": null, \n",
      "  \"origin\": \"139.167.208.11\", \n",
      "  \"url\": \"http://httpbin.org/post\"\n",
      "}\n",
      "\n"
     ]
    }
   ],
   "source": [
    "import requests\n",
    "response=requests.post('http://httpbin.org/post')\n",
    "print(response)\n",
    "print(response.text)"
   ]
  },
  {
   "cell_type": "code",
   "execution_count": 8,
   "id": "d9733add",
   "metadata": {},
   "outputs": [
    {
     "name": "stdout",
     "output_type": "stream",
     "text": [
      "<Response [200]>\n",
      "{\n",
      "  \"args\": {}, \n",
      "  \"data\": \"\", \n",
      "  \"files\": {}, \n",
      "  \"form\": {\n",
      "    \"key1\": \"val1\", \n",
      "    \"key2\": \"val2\"\n",
      "  }, \n",
      "  \"headers\": {\n",
      "    \"Accept\": \"*/*\", \n",
      "    \"Accept-Encoding\": \"gzip, deflate\", \n",
      "    \"Content-Length\": \"19\", \n",
      "    \"Content-Type\": \"application/x-www-form-urlencoded\", \n",
      "    \"Host\": \"httpbin.org\", \n",
      "    \"User-Agent\": \"python-requests/2.25.1\", \n",
      "    \"X-Amzn-Trace-Id\": \"Root=1-60b0cc3d-7fe293e17529d22102f3d295\"\n",
      "  }, \n",
      "  \"json\": null, \n",
      "  \"origin\": \"139.167.208.11\", \n",
      "  \"url\": \"http://httpbin.org/post\"\n",
      "}\n",
      "\n"
     ]
    }
   ],
   "source": [
    "response=requests.post('http://httpbin.org/post',data={\"key1\":\"val1\"\n",
    "                                                        ,\"key2\":\"val2\"})\n",
    "print(response)\n",
    "print(response.text)"
   ]
  },
  {
   "cell_type": "code",
   "execution_count": 11,
   "id": "5f67932f",
   "metadata": {},
   "outputs": [
    {
     "name": "stdout",
     "output_type": "stream",
     "text": [
      "<Response [200]>\n",
      "{\n",
      "  \"args\": {}, \n",
      "  \"data\": \"\", \n",
      "  \"files\": {}, \n",
      "  \"form\": {\n",
      "    \"key1\": [\n",
      "      \"val1\", \n",
      "      \"val3\"\n",
      "    ], \n",
      "    \"key2\": \"val2\"\n",
      "  }, \n",
      "  \"headers\": {\n",
      "    \"Accept\": \"*/*\", \n",
      "    \"Accept-Encoding\": \"gzip, deflate\", \n",
      "    \"Content-Length\": \"29\", \n",
      "    \"Content-Type\": \"application/x-www-form-urlencoded\", \n",
      "    \"Host\": \"httpbin.org\", \n",
      "    \"User-Agent\": \"python-requests/2.25.1\", \n",
      "    \"X-Amzn-Trace-Id\": \"Root=1-60b0cc85-451d80743cddb01769499fef\"\n",
      "  }, \n",
      "  \"json\": null, \n",
      "  \"origin\": \"139.167.208.11\", \n",
      "  \"url\": \"http://httpbin.org/post\"\n",
      "}\n",
      "\n"
     ]
    }
   ],
   "source": [
    "response=requests.post('http://httpbin.org/post',data={\"key1\":[\"val1\",\"val3\"]\n",
    "                                                        ,\"key2\":\"val2\"})\n",
    "print(response)\n",
    "print(response.text)"
   ]
  },
  {
   "cell_type": "code",
   "execution_count": 13,
   "id": "228be58d",
   "metadata": {},
   "outputs": [
    {
     "name": "stdout",
     "output_type": "stream",
     "text": [
      "<Response [201]>\n",
      "{\n",
      "  \"id\": 101\n",
      "}\n"
     ]
    }
   ],
   "source": [
    "res=requests.post('https://jsonplaceholder.typicode.com/posts')\n",
    "print(res)\n",
    "print(res.text)"
   ]
  },
  {
   "cell_type": "code",
   "execution_count": 14,
   "id": "2295ded2",
   "metadata": {},
   "outputs": [
    {
     "name": "stdout",
     "output_type": "stream",
     "text": [
      "<Response [201]>\n",
      "{\n",
      "  \"user-id\": \"2\",\n",
      "  \"<built-in function id>\": \"200\",\n",
      "  \"id\": 101\n",
      "}\n"
     ]
    }
   ],
   "source": [
    "res=requests.post('https://jsonplaceholder.typicode.com/posts',data={\"user-id\":2,id:200})\n",
    "print(res)\n",
    "print(res.text)"
   ]
  },
  {
   "cell_type": "code",
   "execution_count": 15,
   "id": "5ce5e03e",
   "metadata": {},
   "outputs": [],
   "source": [
    "from requests.auth import HTTPBasicAuth"
   ]
  },
  {
   "cell_type": "code",
   "execution_count": 17,
   "id": "bfacfea6",
   "metadata": {},
   "outputs": [
    {
     "name": "stdout",
     "output_type": "stream",
     "text": [
      "401\n"
     ]
    }
   ],
   "source": [
    "a=requests.get('https://api.github.com/user'auth=HTTPBasicAuth)\n",
    "print(a.status_code) "
   ]
  },
  {
   "cell_type": "code",
   "execution_count": 1,
   "id": "909a388b",
   "metadata": {},
   "outputs": [],
   "source": [
    "import requests"
   ]
  },
  {
   "cell_type": "code",
   "execution_count": 2,
   "id": "6d5a3de0",
   "metadata": {},
   "outputs": [
    {
     "name": "stdout",
     "output_type": "stream",
     "text": [
      "200\n",
      "utf-8\n",
      "https://codingninjas.in/api/v3/courses\n",
      "{'Date': 'Sat, 29 May 2021 12:48:16 GMT', 'Content-Type': 'application/json', 'Transfer-Encoding': 'chunked', 'Connection': 'keep-alive', 'Server': 'nginx', 'X-Frame-Options': 'SAMEORIGIN', 'X-XSS-Protection': '1; mode=block', 'X-Content-Type-Options': 'nosniff', 'Access-Control-Allow-Origin': '*', 'Access-Control-Allow-Methods': 'POST, GET, PATCH, PUT, DELETE, OPTIONS', 'Access-Control-Allow-Headers': 'Access-Control-Allow-Headers, Origin,Accept, X-Requested-With, Content-Type, Access-Control-Request-Method, Access-Control-Request-Headers, Authorization', 'Access-Control-Max-Age': '1728000', 'Vary': 'Accept-Encoding', 'Content-Encoding': 'gzip', 'ETag': 'W/\"18bbaef6e5a20f0286f00b3b6da9a62e\"', 'Cache-Control': 'max-age=0, private, must-revalidate', 'X-Request-Id': 'b881b28f-3268-4879-8f5d-74cecf2813e8', 'X-Runtime': '0.143924', 'Strict-Transport-Security': 'max-age=31536000; includeSubDomains;'}\n"
     ]
    }
   ],
   "source": [
    "response=requests.get('https://codingninjas.in/api/v3/courses')\n",
    "print(response.status_code)\n",
    "print(response.encoding)\n",
    "print(response.url)\n",
    "print (response.headers)\n"
   ]
  },
  {
   "cell_type": "code",
   "execution_count": 7,
   "id": "f59a20ad",
   "metadata": {},
   "outputs": [
    {
     "name": "stdout",
     "output_type": "stream",
     "text": [
      "<class 'str'>\n"
     ]
    }
   ],
   "source": [
    "h=response.headers\n",
    "print(type(h[\"Content-Type\"]))"
   ]
  },
  {
   "cell_type": "code",
   "execution_count": 8,
   "id": "15572f82",
   "metadata": {},
   "outputs": [
    {
     "name": "stdout",
     "output_type": "stream",
     "text": [
      "Date\n",
      "Content-Type\n",
      "Transfer-Encoding\n",
      "Connection\n",
      "Server\n",
      "X-Frame-Options\n",
      "X-XSS-Protection\n",
      "X-Content-Type-Options\n",
      "Access-Control-Allow-Origin\n",
      "Access-Control-Allow-Methods\n",
      "Access-Control-Allow-Headers\n",
      "Access-Control-Max-Age\n",
      "Vary\n",
      "Content-Encoding\n",
      "ETag\n",
      "Cache-Control\n",
      "X-Request-Id\n",
      "X-Runtime\n",
      "Strict-Transport-Security\n"
     ]
    }
   ],
   "source": [
    "for i in h:\n",
    "    print(i)"
   ]
  },
  {
   "cell_type": "code",
   "execution_count": 12,
   "id": "c19541ba",
   "metadata": {},
   "outputs": [
    {
     "name": "stdout",
     "output_type": "stream",
     "text": [
      "Date : Sat, 29 May 2021 12:48:16 GMT\n",
      "Content-Type : application/json\n",
      "Transfer-Encoding : chunked\n",
      "Connection : keep-alive\n",
      "Server : nginx\n",
      "X-Frame-Options : SAMEORIGIN\n",
      "X-XSS-Protection : 1; mode=block\n",
      "X-Content-Type-Options : nosniff\n",
      "Access-Control-Allow-Origin : *\n",
      "Access-Control-Allow-Methods : POST, GET, PATCH, PUT, DELETE, OPTIONS\n",
      "Access-Control-Allow-Headers : Access-Control-Allow-Headers, Origin,Accept, X-Requested-With, Content-Type, Access-Control-Request-Method, Access-Control-Request-Headers, Authorization\n",
      "Access-Control-Max-Age : 1728000\n",
      "Vary : Accept-Encoding\n",
      "Content-Encoding : gzip\n",
      "ETag : W/\"18bbaef6e5a20f0286f00b3b6da9a62e\"\n",
      "Cache-Control : max-age=0, private, must-revalidate\n",
      "X-Request-Id : b881b28f-3268-4879-8f5d-74cecf2813e8\n",
      "X-Runtime : 0.143924\n",
      "Strict-Transport-Security : max-age=31536000; includeSubDomains;\n"
     ]
    }
   ],
   "source": [
    "for i in h:\n",
    "    print(i ,':', h[i])"
   ]
  },
  {
   "cell_type": "code",
   "execution_count": 18,
   "id": "4b7d3183",
   "metadata": {},
   "outputs": [
    {
     "name": "stdout",
     "output_type": "stream",
     "text": [
      "200\n",
      "{\"message\":{\"affenpinscher\":[],\"african\":[],\"airedale\":[],\"akita\":[],\"appenzeller\":[],\"australian\":[\"shepherd\"],\"basenji\":[],\"beagle\":[],\"bluetick\":[],\"borzoi\":[],\"bouvier\":[],\"boxer\":[],\"brabancon\":[],\"briard\":[],\"buhund\":[\"norwegian\"],\"bulldog\":[\"boston\",\"english\",\"french\"],\"bullterrier\":[\"staffordshire\"],\"cairn\":[],\"cattledog\":[\"australian\"],\"chihuahua\":[],\"chow\":[],\"clumber\":[],\"cockapoo\":[],\"collie\":[\"border\"],\"coonhound\":[],\"corgi\":[\"cardigan\"],\"cotondetulear\":[],\"dachshund\":[],\"dalmatian\":[],\"dane\":[\"great\"],\"deerhound\":[\"scottish\"],\"dhole\":[],\"dingo\":[],\"doberman\":[],\"elkhound\":[\"norwegian\"],\"entlebucher\":[],\"eskimo\":[],\"finnish\":[\"lapphund\"],\"frise\":[\"bichon\"],\"germanshepherd\":[],\"greyhound\":[\"italian\"],\"groenendael\":[],\"havanese\":[],\"hound\":[\"afghan\",\"basset\",\"blood\",\"english\",\"ibizan\",\"plott\",\"walker\"],\"husky\":[],\"keeshond\":[],\"kelpie\":[],\"komondor\":[],\"kuvasz\":[],\"labradoodle\":[],\"labrador\":[],\"leonberg\":[],\"lhasa\":[],\"malamute\":[],\"malinois\":[],\"maltese\":[],\"mastiff\":[\"bull\",\"english\",\"tibetan\"],\"mexicanhairless\":[],\"mix\":[],\"mountain\":[\"bernese\",\"swiss\"],\"newfoundland\":[],\"otterhound\":[],\"ovcharka\":[\"caucasian\"],\"papillon\":[],\"pekinese\":[],\"pembroke\":[],\"pinscher\":[\"miniature\"],\"pitbull\":[],\"pointer\":[\"german\",\"germanlonghair\"],\"pomeranian\":[],\"poodle\":[\"miniature\",\"standard\",\"toy\"],\"pug\":[],\"puggle\":[],\"pyrenees\":[],\"redbone\":[],\"retriever\":[\"chesapeake\",\"curly\",\"flatcoated\",\"golden\"],\"ridgeback\":[\"rhodesian\"],\"rottweiler\":[],\"saluki\":[],\"samoyed\":[],\"schipperke\":[],\"schnauzer\":[\"giant\",\"miniature\"],\"setter\":[\"english\",\"gordon\",\"irish\"],\"sheepdog\":[\"english\",\"shetland\"],\"shiba\":[],\"shihtzu\":[],\"spaniel\":[\"blenheim\",\"brittany\",\"cocker\",\"irish\",\"japanese\",\"sussex\",\"welsh\"],\"springer\":[\"english\"],\"stbernard\":[],\"terrier\":[\"american\",\"australian\",\"bedlington\",\"border\",\"dandie\",\"fox\",\"irish\",\"kerryblue\",\"lakeland\",\"norfolk\",\"norwich\",\"patterdale\",\"russell\",\"scottish\",\"sealyham\",\"silky\",\"tibetan\",\"toy\",\"westhighland\",\"wheaten\",\"yorkshire\"],\"vizsla\":[],\"waterdog\":[\"spanish\"],\"weimaraner\":[],\"whippet\":[],\"wolfhound\":[\"irish\"]},\"status\":\"success\"}\n"
     ]
    }
   ],
   "source": [
    "r1=requests.get(\"https://dog.ceo/api/breeds/list/all\")\n",
    "print(r1.status_code)\n",
    "print((r1.text))\n"
   ]
  },
  {
   "cell_type": "code",
   "execution_count": 19,
   "id": "c0966878",
   "metadata": {},
   "outputs": [
    {
     "name": "stdout",
     "output_type": "stream",
     "text": [
      "afghan\n",
      "basset\n",
      "blood\n",
      "english\n",
      "ibizan\n",
      "plott\n",
      "walker\n"
     ]
    }
   ],
   "source": [
    "import json\n",
    "\n",
    "\n",
    "pyth=r1.json()\n",
    "r2=pyth['message']['hound']\n",
    "for i in r2:\n",
    "    print(i)\n"
   ]
  },
  {
   "cell_type": "code",
   "execution_count": 22,
   "id": "de549c96",
   "metadata": {},
   "outputs": [
    {
     "name": "stdout",
     "output_type": "stream",
     "text": [
      "{\"data\":{\"courses\":[{\"id\":43,\"title\":\"Premium Data Science Course\",\"online_title\":\"premium-data-science-course\",\"offline_title\":\"\",\"name\":\"Premium Data Science Course\",\"level\":\"Foundation Courses\",\"brief_intro\":\"\",\"preview_image_url\":\"\",\"available_online\":true,\"available_offline\":false,\"is_career_track\":false,\"course_group_id\":7,\"classroom_icon_url\":\"https://files.codingninjas.in/0000000000003765.png\"},{\"id\":34,\"title\":\"Front End (React)\",\"online_title\":\"online-web-dev-with-react\",\"offline_title\":\"\",\"name\":\"Advanced  Front-End Web Development with React\",\"level\":\"Development Courses\",\"brief_intro\":\"Advanced  Front-End Web Development with React\",\"preview_image_url\":\"https://ninjasfiles.s3.amazonaws.com/0000000000001179.png\",\"available_online\":true,\"available_offline\":false,\"is_career_track\":false,\"course_group_id\":2,\"classroom_icon_url\":\"https://files.codingninjas.in/0000000000003769.png\"},{\"id\":40,\"title\":\"Data structures and Algorithms [C++/Java/Python]\",\"online_title\":\"premium-foundation-course\",\"offline_title\":\"\",\"name\":\"Premium Data structures and Algorithms [C++/Java/Python]\",\"level\":\"Foundation Courses\",\"brief_intro\":\"\",\"preview_image_url\":\"\",\"available_online\":true,\"available_offline\":false,\"is_career_track\":false,\"course_group_id\":7,\"classroom_icon_url\":\"https://files.codingninjas.in/0000000000003765.png\"},{\"id\":16,\"title\":\"Competitive Programmer\",\"online_title\":\"online-competitive-programming-track\",\"offline_title\":\"\",\"name\":\"Ninja Competitive Programmer Track\",\"level\":\"Career Tracks\",\"brief_intro\":\"Competitive Track\",\"preview_image_url\":\"https://files.codingninjas.in/0000000000001177.png\",\"available_online\":true,\"available_offline\":false,\"is_career_track\":true,\"course_group_id\":3,\"classroom_icon_url\":\"https://files.codingninjas.in/0000000000003775.png\"},{\"id\":41,\"title\":\"Premium Competitive Course\",\"online_title\":\"premium-competitive-course\",\"offline_title\":\"\",\"name\":\"Premium Competitive Programming Course\",\"level\":\"Foundation Courses\",\"brief_intro\":\"\",\"preview_image_url\":\"\",\"available_online\":true,\"available_offline\":false,\"is_career_track\":false,\"course_group_id\":7,\"classroom_icon_url\":\"https://files.codingninjas.in/0000000000003765.png\"},{\"id\":6,\"title\":\"Machine Learning\",\"online_title\":\"online-machine-learning-course\",\"offline_title\":\"classroom-machine-learning-course\",\"name\":\"Machine Learning \\u0026 Deep Learning Course\",\"level\":\"Advanced Courses\",\"brief_intro\":\"Machine learning engineers build, implement, and maintain machine learning systems in technology products.\",\"preview_image_url\":\"https://ninjasfiles.s3.amazonaws.com/0000000000001181.png\",\"available_online\":true,\"available_offline\":false,\"is_career_track\":false,\"course_group_id\":2,\"classroom_icon_url\":\"https://files.codingninjas.in/0000000000003766.png\"},{\"id\":44,\"title\":\"Premium Machine Learning Course\",\"online_title\":\"premium-machine-learning-course\",\"offline_title\":\"\",\"name\":\"Premium Machine Learning Course\",\"level\":\"Foundation Courses\",\"brief_intro\":\"\",\"preview_image_url\":\"\",\"available_online\":true,\"available_offline\":false,\"is_career_track\":false,\"course_group_id\":7,\"classroom_icon_url\":\"https://files.codingninjas.in/0000000000003765.png\"},{\"id\":45,\"title\":\"Premium Android Course\",\"online_title\":\"premium-android-app-development-course\",\"offline_title\":\"\",\"name\":\"Premium Android App Development\",\"level\":\"Foundation Courses\",\"brief_intro\":\"\",\"preview_image_url\":\"\",\"available_online\":true,\"available_offline\":false,\"is_career_track\":false,\"course_group_id\":7,\"classroom_icon_url\":\"https://files.codingninjas.in/0000000000003765.png\"},{\"id\":1,\"title\":\"C++ \\u0026 Data Structures\",\"online_title\":\"onlline-c-plus-plus-course\",\"offline_title\":\"classroom-c-plus-plus-course\",\"name\":\"C++ Foundation with Data Structures\",\"level\":\"Foundation Courses\",\"brief_intro\":\"Brief Intro\",\"preview_image_url\":\"https://files.codingninjas.in/0000000000001176.png\",\"available_online\":true,\"available_offline\":false,\"is_career_track\":false,\"course_group_id\":1,\"classroom_icon_url\":\"https://files.codingninjas.in/0000000000003771.png\"},{\"id\":42,\"title\":\"Premium Web Dev Course\",\"online_title\":\"premium-full-stack-web-development-course\",\"offline_title\":\"\",\"name\":\"Premium Full Stack Web Development\",\"level\":\"Foundation Courses\",\"brief_intro\":\"\",\"preview_image_url\":\"\",\"available_online\":true,\"available_offline\":false,\"is_career_track\":false,\"course_group_id\":7,\"classroom_icon_url\":\"https://files.codingninjas.in/0000000000003765.png\"},{\"id\":12,\"title\":\"Web Dev (Full Stack)\",\"online_title\":\"online-full-stack-node-js-web-dev-course\",\"offline_title\":\"\",\"name\":\"Full Stack Web Development\",\"level\":\"Development Courses\",\"brief_intro\":\"Web Development\",\"preview_image_url\":\"https://ninjasfiles.s3.amazonaws.com/0000000000001179.png\",\"available_online\":true,\"available_offline\":false,\"is_career_track\":false,\"course_group_id\":2,\"classroom_icon_url\":\"https://files.codingninjas.in/0000000000003764.png\"},{\"id\":35,\"title\":\"Android Developer\",\"online_title\":\"online-android-development-career-track\",\"offline_title\":\"\",\"name\":\"Ninja Android Developer Career Track \",\"level\":\"Career Tracks\",\"brief_intro\":\"beginner to pro Android Developer!\",\"preview_image_url\":\"https://ninjasfiles.s3.amazonaws.com/0000000000001175.png\",\"available_online\":true,\"available_offline\":false,\"is_career_track\":true,\"course_group_id\":3,\"classroom_icon_url\":\"https://files.codingninjas.in/0000000000003774.png\"},{\"id\":2,\"title\":\"Java \\u0026 Data Structures\",\"online_title\":\"online-java-course\",\"offline_title\":\"classroom-java-course\",\"name\":\"JAVA Foundation with Data Structures\",\"level\":\"Foundation Courses\",\"brief_intro\":\"Brief Intro\",\"preview_image_url\":\"https://ninjasfiles.s3.amazonaws.com/0000000000001255.png\",\"available_online\":true,\"available_offline\":false,\"is_career_track\":false,\"course_group_id\":1,\"classroom_icon_url\":\"https://files.codingninjas.in/0000000000003772.png\"},{\"id\":13,\"title\":\"Data Science\",\"online_title\":\"online-data-science-course\",\"offline_title\":\"\",\"name\":\"Data Science \\u0026 Machine Learning Complete\",\"level\":\"Advanced Courses\",\"brief_intro\":\"Brief Intro\",\"preview_image_url\":\"https://ninjasfiles.s3.amazonaws.com/0000000000001371.png\",\"available_online\":true,\"available_offline\":false,\"is_career_track\":false,\"course_group_id\":2,\"classroom_icon_url\":\"https://files.codingninjas.in/0000000000003763.png\"},{\"id\":36,\"title\":\"Python \\u0026 Web Dev (MERN)\",\"online_title\":\"ninja-web-developer-career-track-mern-stack\",\"offline_title\":\"\",\"name\":\"Ninja  Web Developer Career Track - NodeJS \\u0026 ReactJs\",\"level\":\"Career Tracks\",\"brief_intro\":\"Programming foundation + MERN Stack Web Development complete Career Track\",\"preview_image_url\":\"https://ninjasfiles.s3.amazonaws.com/0000000000001179.png\",\"available_online\":true,\"available_offline\":false,\"is_career_track\":true,\"course_group_id\":3,\"classroom_icon_url\":\"https://files.codingninjas.in/0000000000003777.png\"},{\"id\":4,\"title\":\"Interview Preparation\",\"online_title\":\"online-interview-preparation\",\"offline_title\":\"classroom-interview-preparation\",\"name\":\"Interview Preparation Course\",\"level\":\"Advanced Courses\",\"brief_intro\":\"Brief Intro\",\"preview_image_url\":\"https://ninjasfiles.s3.amazonaws.com/0000000000001178.png\",\"available_online\":true,\"available_offline\":false,\"is_career_track\":false,\"course_group_id\":1,\"classroom_icon_url\":\"https://files.codingninjas.in/0000000000003765.png\"},{\"id\":10,\"title\":\"Competitive Programming\",\"online_title\":\"online-competitive-programming-course\",\"offline_title\":\"\",\"name\":\"Competitive Programming Course\",\"level\":\"Advanced Courses\",\"brief_intro\":\"Eminence\",\"preview_image_url\":\"https://ninjasfiles.s3.amazonaws.com/0000000000001177.png\",\"available_online\":true,\"available_offline\":false,\"is_career_track\":false,\"course_group_id\":1,\"classroom_icon_url\":\"https://files.codingninjas.in/0000000000003762.png\"},{\"id\":17,\"title\":\"C++ \\u0026 Web Dev (Node.js)\",\"online_title\":\"web-developer-career-track\",\"offline_title\":\"\",\"name\":\"Ninja  Web Developer Career Track - NodeJS\",\"level\":\"Career Tracks\",\"brief_intro\":\"Programming foundation + Full Stack Web Development Career Track\",\"preview_image_url\":\"https://ninjasfiles.s3.amazonaws.com/0000000000001179.png\",\"available_online\":true,\"available_offline\":false,\"is_career_track\":true,\"course_group_id\":3,\"classroom_icon_url\":\"https://files.codingninjas.in/0000000000003777.png\"},{\"id\":33,\"title\":\"Android (Kotlin)\",\"online_title\":\"online-android-Development-kotlin\",\"offline_title\":\"\",\"name\":\"Android Development with Kotlin\",\"level\":\"Development Courses\",\"brief_intro\":\"Android Development Kotlin\",\"preview_image_url\":\"https://ninjasfiles.s3.amazonaws.com/0000000000001175.png\",\"available_online\":true,\"available_offline\":false,\"is_career_track\":false,\"course_group_id\":2,\"classroom_icon_url\":\"https://files.codingninjas.in/0000000000003761.png\"},{\"id\":11,\"title\":\"Python \\u0026 Data Structures\",\"online_title\":\"online-python-course\",\"offline_title\":\"offline-python-course\",\"name\":\"Python Foundation with Data Structures\",\"level\":\"Foundation Courses\",\"brief_intro\":\"Python Foundation\",\"preview_image_url\":\"https://ninjasfiles.s3.amazonaws.com/0000000000001282.png\",\"available_online\":true,\"available_offline\":false,\"is_career_track\":false,\"course_group_id\":1,\"classroom_icon_url\":\"https://files.codingninjas.in/0000000000003773.png\"},{\"id\":18,\"title\":\"Data Scientist\",\"online_title\":\"data-Scientist-career-track\",\"offline_title\":\"\",\"name\":\"Ninja Data Scientist Career Track\",\"level\":\"Career Tracks\",\"brief_intro\":\"Programming foundation + Data Science with ML career track\",\"preview_image_url\":\"https://ninjasfiles.s3.amazonaws.com/0000000000001371.png\",\"available_online\":true,\"available_offline\":false,\"is_career_track\":true,\"course_group_id\":3,\"classroom_icon_url\":\"https://files.codingninjas.in/0000000000003778.png\"},{\"id\":19,\"title\":\"Machine Learning\",\"online_title\":\"machine-learning-engineer-career-track\",\"offline_title\":\"\",\"name\":\"Ninja Machine Learning Engineer Career Track\",\"level\":\"Career Tracks\",\"brief_intro\":\"Programming foundation + Machine Learning career track\",\"preview_image_url\":\"https://ninjasfiles.s3.amazonaws.com/0000000000001181.png\",\"available_online\":true,\"available_offline\":false,\"is_career_track\":true,\"course_group_id\":3,\"classroom_icon_url\":\"https://files.codingninjas.in/0000000000003776.png\"},{\"id\":21,\"title\":\"Aptitude Preparation\",\"online_title\":\"online-aptitude-preparation\",\"offline_title\":\"\",\"name\":\"Aptitude Preparation Course\",\"level\":\"Foundation Courses\",\"brief_intro\":\"Brief Intro\",\"preview_image_url\":\"https://ninjasfiles.s3.amazonaws.com/0000000000001178.png\",\"available_online\":true,\"available_offline\":false,\"is_career_track\":false,\"course_group_id\":1,\"classroom_icon_url\":\"https://files.codingninjas.in/0000000000003770.png\"}],\"course_groups\":[{\"id\":1,\"name\":\"Foundation, Algorithmic \\u0026 Advanced\",\"order\":1,\"course_ids\":[1,2,4,10,11,21],\"json_data\":{\"color\":\"#FFEBC2\",\"image_link\":\"https://ninjasfiles.s3.amazonaws.com/0000000000003821.png\",\"text_color\":\"#AC933C\",\"short_description\":\"Foundation courses are designed such that \\u003cstrong\\u003eno prerequisites are required.\\u003c/strong\\u003e Data Structures(DS) and Algorithms(algo.) parts build on the basics to give you a \\u003cstrong\\u003esolid programming foundation\\u003c/strong\\u003e. Competitive is where you start to \\u003cstrong\\u003epush the boundaries!\\u003c/strong\\u003e\",\"mobile_short_description\":\"Foundation courses are designed such that \\u003cspan\\u003eno prerequisites are required.\\u003c/span\\u003e\"},\"is_independent\":false},{\"id\":2,\"name\":\"Data \\u0026 Development\",\"order\":2,\"course_ids\":[34,6,12,13,33],\"json_data\":{\"color\":\"#80D4B1\",\"image_link\":\"https://files.codingninjas.in/0000000000003846.svg\",\"text_color\":\"#257D68\",\"short_description\":\"Data courses dwell in the state of the art algorithms and require good knowledge of programming fundamentals. Web development courses use modern JavaScript to build powerful and fast applications from the ground up. \\u003cstrong\\u003eNo prior development experience needed\\u003c/strong\\u003e\",\"mobile_short_description\":\"Data courses dwell in the state of the art algorithms and require good knowledge of programming fundamentals. Web development courses use modern JavaScript to build powerful and fast applications from the ground up. \\u003cspan\\u003eNo prior development experience needed\\u003c/span\\u003e\"},\"is_independent\":false},{\"id\":3,\"name\":\"Career Track\",\"order\":3,\"course_ids\":[16,35,36,17,18,19],\"json_data\":{\"color\":\"#C898FF\",\"image_link\":\"https://files.codingninjas.in/0000000000003845.svg\",\"text_color\":\"#603CAC\",\"short_description\":\"These are courses that take you from \\u003cstrong\\u003ezero to hero\\u003c/strong\\u003e. Each track is designed specifically to cater to a particular goal you can choose and \\u003cstrong\\u003ecovers everything you need to learn and assumes no prior knowledge.\\u003c/strong\\u003e\",\"mobile_short_description\":\"Each track is designed specifically to cater to a particular goal you can choose and \\u003cspan\\u003ecovers everything you need to learn and assumes no prior knowledge.\\u003c/span\\u003e\"},\"is_independent\":true},{\"id\":7,\"name\":\"Premium Course\",\"order\":null,\"course_ids\":[43,40,41,44,45,42],\"json_data\":null,\"is_independent\":true}]},\"message\":\"Courses\",\"status\":200,\"error\":null,\"disabled\":false,\"update\":false,\"external_rating\":null}\n",
      "https://codingninjas.in/api/v3/courses\n"
     ]
    }
   ],
   "source": [
    "response=requests.get('https://codingninjas.in/api/v3/courses')\n",
    "print(response.text)\n",
    "print(response.url)"
   ]
  },
  {
   "cell_type": "code",
   "execution_count": 38,
   "id": "5a2fbb88",
   "metadata": {},
   "outputs": [],
   "source": [
    "d=response.json()"
   ]
  },
  {
   "cell_type": "code",
   "execution_count": 40,
   "id": "7ed18164",
   "metadata": {},
   "outputs": [
    {
     "name": "stdout",
     "output_type": "stream",
     "text": [
      "Premium Data Science Course\n",
      "Advanced  Front-End Web Development with React\n",
      "Premium Data structures and Algorithms [C++/Java/Python]\n",
      "Ninja Competitive Programmer Track\n",
      "Premium Competitive Programming Course\n",
      "Machine Learning & Deep Learning Course\n",
      "Premium Machine Learning Course\n",
      "Premium Android App Development\n",
      "C++ Foundation with Data Structures\n",
      "Premium Full Stack Web Development\n",
      "Full Stack Web Development\n",
      "Ninja Android Developer Career Track \n",
      "JAVA Foundation with Data Structures\n",
      "Data Science & Machine Learning Complete\n",
      "Ninja  Web Developer Career Track - NodeJS & ReactJs\n",
      "Interview Preparation Course\n",
      "Competitive Programming Course\n",
      "Ninja  Web Developer Career Track - NodeJS\n",
      "Android Development with Kotlin\n",
      "Python Foundation with Data Structures\n",
      "Ninja Data Scientist Career Track\n",
      "Ninja Machine Learning Engineer Career Track\n",
      "Aptitude Preparation Course\n"
     ]
    }
   ],
   "source": [
    "u=d['data']['courses']\n",
    "for i in u:\n",
    "    if(i[\"available_online\"] == True):\n",
    "        print(i['name'])\n",
    "    "
   ]
  },
  {
   "cell_type": "code",
   "execution_count": 43,
   "id": "9261f029",
   "metadata": {},
   "outputs": [
    {
     "name": "stdout",
     "output_type": "stream",
     "text": [
      "Antwerpen\n",
      "Brabant wallon\n",
      "Brussels-Capital Region\n",
      "Flanders\n",
      "Hainaut\n"
     ]
    }
   ],
   "source": [
    "response=requests.get('https://api.openaq.org/v1/cities',params={\"country\": \"BE\",\"limit\":5,\"order_by\":\"city\"})\n",
    "data=response.json()\n",
    "for i in data[\"results\"]:\n",
    "    print(i[\"city\"])\n"
   ]
  },
  {
   "cell_type": "code",
   "execution_count": null,
   "id": "a283be37",
   "metadata": {},
   "outputs": [],
   "source": []
  }
 ],
 "metadata": {
  "kernelspec": {
   "display_name": "Python 3",
   "language": "python",
   "name": "python3"
  },
  "language_info": {
   "codemirror_mode": {
    "name": "ipython",
    "version": 3
   },
   "file_extension": ".py",
   "mimetype": "text/x-python",
   "name": "python",
   "nbconvert_exporter": "python",
   "pygments_lexer": "ipython3",
   "version": "3.9.4"
  }
 },
 "nbformat": 4,
 "nbformat_minor": 5
}
