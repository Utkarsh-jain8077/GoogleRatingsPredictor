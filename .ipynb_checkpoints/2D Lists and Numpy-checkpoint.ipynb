{
 "cells": [
  {
   "cell_type": "markdown",
   "metadata": {},
   "source": [
    "<font size=5>2D Lists</font>"
   ]
  },
  {
   "cell_type": "markdown",
   "metadata": {},
   "source": [
    "<p>We use lists to store data like in arrays, but what if we want to store, say arrays as elements in an array? How do we make a list of lists maybe? This is where 2D lists come in.</p>\n",
    "<p>Two dimensional array is an array within an array. It is an array of arrays. In this type of array the position of an data element is referred by two indices instead of one. So it represents a table with rows an dcolumns of data. In the below example of a two dimensional array, observer that each array element itself is also an array.</p>\n",
    "<p>The data elements in two dimesnional arrays can be accessed using two indices. One index referring to the main or parent array and another index referring to the position of the data element in the inner array. If we mention only one index then the entire inner array is printed for that index position. </p>"
   ]
  },
  {
   "cell_type": "code",
   "execution_count": 17,
   "metadata": {},
   "outputs": [
    {
     "name": "stdout",
     "output_type": "stream",
     "text": [
      "2 3\n",
      "1 2 3 4 5 6\n",
      "[[1, 2, 3], [4, 5, 6]]\n",
      "[[1, 2, 3], [4, 5, 6]]\n"
     ]
    }
   ],
   "source": [
    "# Declaring a 2D array\n",
    "myArr = np.array([[1,2],[3,4]])\n",
    "\n",
    "# Taking input into a 2D array\n",
    "str = input().strip().split(\" \")\n",
    "n = int(str[0])\n",
    "m = int(str[1])\n",
    "l = [int(i) for i in input().strip().split(\" \")]\n",
    "\n",
    "out = []\n",
    "for i in range(n):\n",
    "    out.append([])\n",
    "    for j in range(m):\n",
    "        out[i].append(l[i*m+j])\n",
    "        \n",
    "print(out)\n",
    "\n",
    "# The above work done in a single line.\n",
    "out2 = [[l[i*m+j] for j in range (m)] for i in range (n)]\n",
    "print(out2)"
   ]
  },
  {
   "cell_type": "markdown",
   "metadata": {},
   "source": [
    "<font size=5>Wave Print</font>"
   ]
  },
  {
   "cell_type": "markdown",
   "metadata": {},
   "source": [
    "<p>The problem of wave print is an important one to know and understand. Given a 2D list, how can you print a wave pattern? That is, you need to print the list elements which form a wave pattern in the list.</p>\n",
    "<p>We rationalize that since the wave is to be printed in an up-and-down fashion, we traverse downwards for even iterations and upwards for odd iterations. The code for the problem is given below.</p>"
   ]
  },
  {
   "cell_type": "code",
   "execution_count": 18,
   "metadata": {},
   "outputs": [
    {
     "name": "stdout",
     "output_type": "stream",
     "text": [
      "1 4 5 2 3 6 "
     ]
    }
   ],
   "source": [
    "n = len(out2)\n",
    "m = len(out2[0])\n",
    "\n",
    "for j in range(m):\n",
    "    if j % 2 == 0:\n",
    "        for i in range(n):\n",
    "            print(out2[i][j],end=\" \")\n",
    "    else:\n",
    "        i = n - 1\n",
    "        while(i>=0):\n",
    "            print(out2[i][j],end=\" \")\n",
    "            i = i - 1\n",
    "            "
   ]
  },
  {
   "cell_type": "markdown",
   "metadata": {},
   "source": [
    "<font size=5>Importing Modules</font>"
   ]
  },
  {
   "cell_type": "markdown",
   "metadata": {},
   "source": [
    "<p>To use various functionalities in Python, it is very difficult and cumbersome to write code for each from scratch. Hence, we use in-built modules for ease of work.</p>\n",
    "</p>If we are importing a module with a big name, we can import it as a shortcut as well. Note that we have to use the name to import further functions from it, or an error will be displayed.</p>"
   ]
  },
  {
   "cell_type": "code",
   "execution_count": 2,
   "metadata": {
    "collapsed": true
   },
   "outputs": [],
   "source": [
    "import pandas as pd         # Writing pandas everywhere is cumbersome, so we've imported it as pd.\n",
    "from pandas import read_csv # if you import like this, then you don't need to write pd.read_csv() to call it, you can simply \n",
    "                            # write read_csv() and use it.\n",
    "from pandas import *        # This has imported everything in the pandas module.\n"
   ]
  },
  {
   "cell_type": "markdown",
   "metadata": {},
   "source": [
    "<font size=5>Numpy</font>"
   ]
  },
  {
   "cell_type": "markdown",
   "metadata": {},
   "source": [
    "<p>Arrays in Python are a bit slow as compared to other languages. This is because unlike in other languages, elements in Python arrays are not stored compactly, rendering Python arrays ineffective in terms of speed. This problem is solved by using Numpy, a library in Python.</p>p>\n",
    "Note that elements in numpy arrays have to be of the same type unlike in lists. We can insert, perform slicing and access elements in numpy arrays just the same as in lists.\n",
    "</p>"
   ]
  },
  {
   "cell_type": "code",
   "execution_count": 2,
   "metadata": {},
   "outputs": [
    {
     "name": "stdout",
     "output_type": "stream",
     "text": [
      "[[ 1.  1.  1.]]\n"
     ]
    }
   ],
   "source": [
    "import numpy as np # importing Numpy\n",
    "l = [1,2,3]\n",
    "arr = np.array(l) # converted list to numpy array\n",
    "\n",
    "myArr = np.ones((1,3))\n",
    "print(myArr)"
   ]
  },
  {
   "cell_type": "markdown",
   "metadata": {},
   "source": [
    "<font size=5>Numpy Operations</font>"
   ]
  },
  {
   "cell_type": "markdown",
   "metadata": {},
   "source": [
    "<p>NumPy’s array class is called ndarray. Let us take a look at some common numpy operations.</p>\n",
    "<ol><li>ndarray.ndim:\n",
    "    the number of axes (dimensions) of the array.</li><li>\n",
    "ndarray.shape:\n",
    "the dimensions of the array. This is a tuple of integers indicating the size of the array in each dimension. For a matrix with n rows and m columns, shape will be (n,m). The length of the shape tuple is therefore the number of axes, ndim.</li><li>\n",
    "ndarray.size:\n",
    "the total number of elements of the array. This is equal to the product of the elements of shape.</li><li>\n",
    "ndarray.dtype:\n",
    "an object describing the type of the elements in the array. One can create or specify dtype’s using standard Python types. Additionally NumPy provides types of its own. numpy.int32, numpy.int16, and numpy.float64 are some examples.</li>\n",
    "</ol>"
   ]
  },
  {
   "cell_type": "code",
   "execution_count": 3,
   "metadata": {},
   "outputs": [
    {
     "name": "stdout",
     "output_type": "stream",
     "text": [
      "[5 6 7 8 9]\n",
      "5\n",
      "[[21 24]\n",
      " [47 54]]\n",
      "(3, 5)\n",
      "2\n",
      "int32\n",
      "4\n",
      "15\n",
      "<class 'numpy.ndarray'>\n"
     ]
    }
   ],
   "source": [
    "myArr = np.array([1,2,3,4,5])\n",
    "\n",
    "emptyArr = np.empty((1,2)) # initializes a numpy array with no values\n",
    "print(myArr + 4) # This would have given an error in case of a list but not for a numpy array.\n",
    "\n",
    "print(np.max(myArr)) # Prints the maximum element in myArr\n",
    "\n",
    "a1 = np.array([[1,2],[3,4]])\n",
    "a2 = np.array([[5,6],[8,9]])\n",
    "print(a1.dot(a2)) # computes dot product\n",
    "\n",
    "a = np.arange(15).reshape(3, 5)\n",
    "\n",
    "print(a.shape)\n",
    "\n",
    "print(a.ndim)\n",
    "\n",
    "print(a.dtype.name)\n",
    "\n",
    "print(a.itemsize)\n",
    "\n",
    "print(a.size)\n",
    "\n",
    "print(type(a))\n"
   ]
  }
 ],
 "metadata": {
  "kernelspec": {
   "display_name": "Python 3",
   "language": "python",
   "name": "python3"
  },
  "language_info": {
   "codemirror_mode": {
    "name": "ipython",
    "version": 3
   },
   "file_extension": ".py",
   "mimetype": "text/x-python",
   "name": "python",
   "nbconvert_exporter": "python",
   "pygments_lexer": "ipython3",
   "version": "3.6.3"
  }
 },
 "nbformat": 4,
 "nbformat_minor": 2
}
