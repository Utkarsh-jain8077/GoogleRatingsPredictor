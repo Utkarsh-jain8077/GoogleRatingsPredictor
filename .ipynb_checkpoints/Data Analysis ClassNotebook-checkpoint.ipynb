{
 "cells": [
  {
   "cell_type": "code",
   "execution_count": 34,
   "id": "bf1bf73f",
   "metadata": {},
   "outputs": [],
   "source": [
    "li=[\"200\",\"30yards\",\"100-110\",\"400sqm\",\"50cents\",\"600square meter\",\"38guntha\"]"
   ]
  },
  {
   "cell_type": "code",
   "execution_count": 35,
   "id": "b5276393",
   "metadata": {},
   "outputs": [],
   "source": [
    "def clean(n):\n",
    "    n=n.lower()\n",
    "    if(all([ True if i.isdigit() else False for i in n ])):\n",
    "        return float(n)\n",
    "    elif(\"-\" in n):\n",
    "        a,b=n.split(\"-\")\n",
    "        return (float(a)+float(b))/20\n",
    "    elif(\"sqm\" in n or \"square meter\" in n or \"Sq. Meter\" in n):\n",
    "        return float(n.split(\"s\")[0])\n",
    "    elif(\"yards\" in n ):\n",
    "        return float(n.split(\"y\")[0])*9\n",
    "    elif(\"cents\" in n):\n",
    "        return float(n.split(\"c\")[0])*435.56\n",
    "    elif(\"guntha\" in n):\n",
    "        return float(n.split(\"g\")[0])*1089\n",
    "    "
   ]
  },
  {
   "cell_type": "code",
   "execution_count": 36,
   "id": "b121a6bb",
   "metadata": {},
   "outputs": [],
   "source": [
    "output = list(map(clean,li))"
   ]
  },
  {
   "cell_type": "code",
   "execution_count": 37,
   "id": "4fc19348",
   "metadata": {},
   "outputs": [
    {
     "data": {
      "text/plain": [
       "[200.0, 270.0, 105.0, 400.0, 21778.0, 600.0, 41382.0]"
      ]
     },
     "execution_count": 37,
     "metadata": {},
     "output_type": "execute_result"
    }
   ],
   "source": [
    "output"
   ]
  },
  {
   "cell_type": "markdown",
   "id": "c3420d52",
   "metadata": {},
   "source": [
    "# "
   ]
  },
  {
   "cell_type": "code",
   "execution_count": 1,
   "id": "c235d35d",
   "metadata": {},
   "outputs": [
    {
     "data": {
      "text/plain": [
       "array([[1., 1., 1.],\n",
       "       [1., 1., 1.]])"
      ]
     },
     "execution_count": 1,
     "metadata": {},
     "output_type": "execute_result"
    }
   ],
   "source": [
    "import numpy as np\n",
    "u=np.ones((2,3))\n",
    "u"
   ]
  },
  {
   "cell_type": "code",
   "execution_count": 5,
   "id": "c0076d61",
   "metadata": {},
   "outputs": [
    {
     "data": {
      "text/plain": [
       "array([9, 7, 7, 9, 8, 9])"
      ]
     },
     "execution_count": 5,
     "metadata": {},
     "output_type": "execute_result"
    }
   ],
   "source": [
    "x=np.random.randint(7,10,size=6)\n",
    "x"
   ]
  },
  {
   "cell_type": "code",
   "execution_count": 1,
   "id": "edbf80ad",
   "metadata": {},
   "outputs": [],
   "source": [
    "import numpy as np"
   ]
  },
  {
   "cell_type": "code",
   "execution_count": 9,
   "id": "9a2dda55",
   "metadata": {},
   "outputs": [],
   "source": [
    "x=np.random.randint(10,size=(3,3))"
   ]
  },
  {
   "cell_type": "code",
   "execution_count": 10,
   "id": "77c93eb6",
   "metadata": {},
   "outputs": [
    {
     "data": {
      "text/plain": [
       "array([[7, 4, 0],\n",
       "       [3, 5, 6],\n",
       "       [5, 6, 0]])"
      ]
     },
     "execution_count": 10,
     "metadata": {},
     "output_type": "execute_result"
    }
   ],
   "source": [
    "x"
   ]
  },
  {
   "cell_type": "code",
   "execution_count": 11,
   "id": "8ef5ddda",
   "metadata": {},
   "outputs": [
    {
     "data": {
      "text/plain": [
       "[array([[7, 4],\n",
       "        [3, 5],\n",
       "        [5, 6]]),\n",
       " array([[0],\n",
       "        [6],\n",
       "        [0]]),\n",
       " array([], shape=(3, 0), dtype=int32)]"
      ]
     },
     "execution_count": 11,
     "metadata": {},
     "output_type": "execute_result"
    }
   ],
   "source": [
    "np.hsplit(x,[2,5])"
   ]
  },
  {
   "cell_type": "code",
   "execution_count": 12,
   "id": "1d06cecd",
   "metadata": {},
   "outputs": [
    {
     "data": {
      "text/plain": [
       "array([[ 0,  1,  2,  3],\n",
       "       [ 4,  5,  6,  7],\n",
       "       [ 8,  9, 10, 11],\n",
       "       [12, 13, 14, 15]])"
      ]
     },
     "execution_count": 12,
     "metadata": {},
     "output_type": "execute_result"
    }
   ],
   "source": [
    "y=np.arange(16).reshape(4,4)\n",
    "y"
   ]
  },
  {
   "cell_type": "code",
   "execution_count": 19,
   "id": "6b5a5255",
   "metadata": {},
   "outputs": [
    {
     "data": {
      "text/plain": [
       "[array([[ 0,  1,  2,  3],\n",
       "        [ 4,  5,  6,  7],\n",
       "        [ 8,  9, 10, 11]]),\n",
       " array([[12, 13, 14, 15]]),\n",
       " array([], shape=(0, 4), dtype=int32)]"
      ]
     },
     "execution_count": 19,
     "metadata": {},
     "output_type": "execute_result"
    }
   ],
   "source": [
    "np.vsplit(y,[3,6])"
   ]
  },
  {
   "cell_type": "code",
   "execution_count": null,
   "id": "f480db78",
   "metadata": {},
   "outputs": [],
   "source": [
    "write a universal function that return if the number is even or not"
   ]
  },
  {
   "cell_type": "code",
   "execution_count": 8,
   "id": "f422ea3d",
   "metadata": {},
   "outputs": [],
   "source": [
    "def func(n):\n",
    "    if(n%2==0):\n",
    "        return True\n",
    "    else: \n",
    "        return False"
   ]
  },
  {
   "cell_type": "code",
   "execution_count": 11,
   "id": "a6d07c08",
   "metadata": {},
   "outputs": [
    {
     "name": "stdout",
     "output_type": "stream",
     "text": [
      "True\n"
     ]
    }
   ],
   "source": [
    "import numpy as np\n",
    "even=np.frompyfunc(func,1,1)\n",
    "print(even(4))"
   ]
  },
  {
   "cell_type": "code",
   "execution_count": null,
   "id": "8c822d54",
   "metadata": {},
   "outputs": [],
   "source": []
  }
 ],
 "metadata": {
  "kernelspec": {
   "display_name": "Python 3",
   "language": "python",
   "name": "python3"
  },
  "language_info": {
   "codemirror_mode": {
    "name": "ipython",
    "version": 3
   },
   "file_extension": ".py",
   "mimetype": "text/x-python",
   "name": "python",
   "nbconvert_exporter": "python",
   "pygments_lexer": "ipython3",
   "version": "3.9.4"
  }
 },
 "nbformat": 4,
 "nbformat_minor": 5
}
